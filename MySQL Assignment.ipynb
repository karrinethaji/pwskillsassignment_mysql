{
 "cells": [
  {
   "cell_type": "markdown",
   "id": "897ae904",
   "metadata": {},
   "source": [
    "#### Q1. What is a database? Differentiate between SQL and NoSQL databases."
   ]
  },
  {
   "cell_type": "markdown",
   "id": "0b4bd49b",
   "metadata": {},
   "source": [
    "Database is a oraganized collection of information/ data stored in a computer system and it usually controlled by a system called \"Database management systems\"\n",
    "\n",
    "There are two types of databases of available in the market:\n",
    "\n",
    "1) Relational database\n",
    "2) Non-Relational database\n",
    "\n",
    "**Relational database:** A relational database is a database in which data is organized into tables with predefined rows and columns. An inherent correlation between them characterizes the data points in these tables. For example, a good example of a relational database includes the complete records of the students belonging to a particular class in a school. This inherent correlation makes it increasingly simplistic for data teams to query and easily sort data accordingly.\n",
    "\n",
    "**Non-relational database:** A non-relational database is a database in which the dats is stored in the form of JSON document (key value pairs) and like a relational database we don't need to provide the schema before using the database.\n",
    "\n",
    "Types of SQL databases are: (Used to store the information in the tabular format)\n",
    "1)\tMySQL\n",
    "2)\tOracle\n",
    "3)\tMicrosoft SQL server \n",
    "4)\tPostgreSQL\n",
    "5)\tSQLite \n",
    "6)\tMaria DB etc.,\n",
    "\n",
    "Types of NoSQL Databases are:\n",
    "1)\t MongoDB\n",
    "2)\tCassandra\n",
    "3)\tRedis\n",
    "4)\tHbase\n",
    "5)\tInflux\n",
    "6)\tNeo4j etc.,\n",
    "\n",
    "SQL databases store the information in the form of tables (Relational DB) (like an excel).\n",
    "NoSQL databases store information in the form of key value pairs."
   ]
  },
  {
   "cell_type": "markdown",
   "id": "f298ab15",
   "metadata": {},
   "source": [
    "#### Q2. What is DDL? Explain why CREATE, DROP, ALTER, and TRUNCATE are used with an example."
   ]
  },
  {
   "cell_type": "markdown",
   "id": "a4c5bc1e",
   "metadata": {},
   "source": [
    "**DDL:** The abbreviation for DDL is Data Definition Language.\n",
    "\n",
    "Data Definition Language actually consists of the SQL commands that can be used to define the database schema.\n",
    "\n",
    "**CREATE:** CREATE command is used to create the table in a SQL database.\n",
    "\n",
    "ex: CREATE TABLE Pwskills( NAME VARCHAR(20), ROLLNO INTEGER);\n",
    "\n",
    "**DROP & TRUNCATE:** In SQL, the DROP command is used to remove the whole database or table indexes, data, and more. Whereas the TRUNCATE command is used to remove all the rows from the table.\n",
    "\n",
    "ex: DROP TABLE table_name;\n",
    "\n",
    "ex: TRUNCATE TABLE table_name; \n",
    "\n",
    "**ALTER:** Alter commmand is used to make the changes to the existing table like modifying the datatypes to the existing columns, renaming the column names, adding columns to the existing table etc.,\n",
    "\n",
    "ex: ALTER TABLE table_name ADD column_name datatype; --> adding column to the existing table."
   ]
  },
  {
   "cell_type": "markdown",
   "id": "44ae5ef1",
   "metadata": {},
   "source": [
    "#### Q3. What is DML? Explain INSERT, UPDATE, and DELETE with an example."
   ]
  },
  {
   "cell_type": "markdown",
   "id": "c276dee0",
   "metadata": {},
   "source": [
    "**DML:** Abbeviation for the DML is \"Data Manipulation Language\" and these statements is used to manipulated the data in the existing tables like performing insertion of rows, updating the tuples and deleting the tuples/records\n",
    "\n",
    "**INSERT:** The INSERT INTO statement is used to insert new records in a table.\n",
    "\n",
    "ex: INSERT INTO table_name (column1, column2, column3, ...) VALUES (value1, value2, value3, ...);\n",
    "\n",
    "**UPDATE:** The UPDATE statement is used to modify the existing records in a table.\n",
    "\n",
    "ex: UPDATE table_name SET column1 = value1, column2 = value2, ...WHERE condition;\n",
    "\n",
    "**DELETE:** The DELETE statement is used to delete existing records in a table.\n",
    "\n",
    "ex: DELETE FROM table_name WHERE condition;"
   ]
  },
  {
   "cell_type": "markdown",
   "id": "4a45a778",
   "metadata": {},
   "source": [
    "#### Q4. What is DQL? Explain SELECT with an example."
   ]
  },
  {
   "cell_type": "markdown",
   "id": "4b4481f9",
   "metadata": {},
   "source": [
    "**DQL:** Abbreviation for the DQL is \"Data Query Language\", DQL is a portion of a SQL statement that allows you to get and organise data from a database. You can use the SELECT command to extract data from a database in order to perform actions on it.\n",
    "\n",
    "**SELECT:** SELECT statement is used to retrieve the data from the existing table.\n",
    "\n",
    "ex: SELECT * FROM table_name (* means all columns)"
   ]
  },
  {
   "cell_type": "markdown",
   "id": "afc782ec",
   "metadata": {},
   "source": [
    "#### Q5. Explain Primary Key and Foreign Key."
   ]
  },
  {
   "cell_type": "markdown",
   "id": "af040e15",
   "metadata": {},
   "source": [
    "Primary and foreign keys are the most basic components on which relational database theory is based. Primary keys enforce entity integrity by uniquely identifying entity instances. Foreign keys enforce referential integrity by completing an association between two entities.\n",
    "\n",
    "**Features of primary key and foreign key:**\n",
    "\n",
    "1. **NULL values are not allowed.** If the column(s) contain NULL values, the system will not add the primary key constraint. Foreign key can contain the NULL values.\n",
    "\n",
    "2. You can define keys which allow duplicate values. However, do not allow duplicates on primary keys as the value of a record's primary key must be unique.\n",
    "\n",
    "3. **A table can only have one primary key**, but it can have multiple unique constraints. You should explicitly define a table's primary key in the CREATE TABLE statement and **A table can reference a maximum of 253 other tables and columns as foreign keys (outgoing references).**\n",
    "\n",
    "4. **Duplicate values are not allowed for primary key**. Foreign key can contain the duplicate values"
   ]
  },
  {
   "cell_type": "markdown",
   "id": "6d3eba1f",
   "metadata": {},
   "source": [
    "#### Q6. Write a python code to connect MySQL to python. Explain the cursor() and execute() method."
   ]
  },
  {
   "cell_type": "code",
   "execution_count": null,
   "id": "40d94d99",
   "metadata": {},
   "outputs": [],
   "source": [
    "import mysql.connector\n",
    "# import mysql.connector\n",
    "#create user 'user'@'%' identified by 'password'\n",
    "mydb = mysql.connector.connect(\n",
    "  host=\"localhost\",\n",
    "  user=\"root\",\n",
    "  password=\"Kn$9121876724\",use_pure=True\n",
    ")\n",
    "print(mydb)\n",
    "mycursor = mydb.cursor()\n",
    "mycursor.execute(\"SHOW DATABASES\")\n",
    "for x in mycursor:\n",
    "    print(x)\n",
    "\n",
    "# execute() is used to execute the sql commands \n",
    "# cursor() \n",
    "#Allows Python code to execute SQL command in a database session. Cursors are created by the connection.cursor() method: \n",
    "# they are bound to the connection for the entire lifetime and all the commands are executed in the context of the database \n",
    "# session wrapped by the connection."
   ]
  },
  {
   "cell_type": "markdown",
   "id": "dc58e445",
   "metadata": {},
   "source": [
    "#### Q7. Give the order of execution of SQL clauses in an SQL query."
   ]
  },
  {
   "cell_type": "markdown",
   "id": "bf386041",
   "metadata": {},
   "source": [
    "The order of the SQL statements is: F,J,W,G,H,S,D,O,L\n",
    "    \n",
    "F - From, J - Join ,W- Where, G- Group by, H - Having , S - Select , D - Distinct, O - Order by, L -  LIMIT/OFFSET"
   ]
  }
 ],
 "metadata": {
  "kernelspec": {
   "display_name": "Python 3 (ipykernel)",
   "language": "python",
   "name": "python3"
  },
  "language_info": {
   "codemirror_mode": {
    "name": "ipython",
    "version": 3
   },
   "file_extension": ".py",
   "mimetype": "text/x-python",
   "name": "python",
   "nbconvert_exporter": "python",
   "pygments_lexer": "ipython3",
   "version": "3.10.9"
  }
 },
 "nbformat": 4,
 "nbformat_minor": 5
}
